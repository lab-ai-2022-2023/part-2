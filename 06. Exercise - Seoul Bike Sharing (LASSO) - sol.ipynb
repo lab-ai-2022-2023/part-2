{
 "cells": [
  {
   "cell_type": "code",
   "execution_count": 3,
   "metadata": {
    "slideshow": {
     "slide_type": "skip"
    }
   },
   "outputs": [
    {
     "name": "stdout",
     "output_type": "stream",
     "text": [
      "The autoreload extension is already loaded. To reload it, use:\n",
      "  %reload_ext autoreload\n"
     ]
    }
   ],
   "source": [
    "# ======================================================================================\n",
    "# Notebook setup\n",
    "# \n",
    "# Run this cell before all others to make sure that the Jupyter notebook works properly\n",
    "# ======================================================================================\n",
    "\n",
    "# Automatically reload all imported modules\n",
    "%load_ext autoreload\n",
    "%autoreload 2"
   ]
  },
  {
   "cell_type": "markdown",
   "metadata": {},
   "source": [
    "# Exercise: Seoul Bike Sharing (LASSO)"
   ]
  },
  {
   "cell_type": "markdown",
   "metadata": {},
   "source": [
    "## Context\n",
    "\n",
    "<center>\n",
    "<img src=\"assets/bike_sharing.jpg\" width=60%/>    \n",
    "</center>\n",
    "\n",
    "Let's revisit the Seoul Bike Sharing Problem\n",
    "\n",
    "\n",
    "* We will start from our approach with categorical input\n",
    "* ...We we will apply a LASSO approach to identify the most relevant attributes"
   ]
  },
  {
   "cell_type": "code",
   "execution_count": 4,
   "metadata": {},
   "outputs": [
    {
     "data": {
      "text/html": [
       "<div>\n",
       "<style scoped>\n",
       "    .dataframe tbody tr th:only-of-type {\n",
       "        vertical-align: middle;\n",
       "    }\n",
       "\n",
       "    .dataframe tbody tr th {\n",
       "        vertical-align: top;\n",
       "    }\n",
       "\n",
       "    .dataframe thead th {\n",
       "        text-align: right;\n",
       "    }\n",
       "</style>\n",
       "<table border=\"1\" class=\"dataframe\">\n",
       "  <thead>\n",
       "    <tr style=\"text-align: right;\">\n",
       "      <th></th>\n",
       "      <th>Temperature(^C)</th>\n",
       "      <th>Humidity(%)</th>\n",
       "      <th>Wind speed (m/s)</th>\n",
       "      <th>Visibility (10m)</th>\n",
       "      <th>Dew point temperature(^C)</th>\n",
       "      <th>Solar Radiation (MJ/m2)</th>\n",
       "      <th>Rainfall(mm)</th>\n",
       "      <th>Snowfall (cm)</th>\n",
       "      <th>Rented Bike Count</th>\n",
       "      <th>Hour_0</th>\n",
       "      <th>...</th>\n",
       "      <th>Hour_22</th>\n",
       "      <th>Hour_23</th>\n",
       "      <th>Seasons_Autumn</th>\n",
       "      <th>Seasons_Spring</th>\n",
       "      <th>Seasons_Summer</th>\n",
       "      <th>Seasons_Winter</th>\n",
       "      <th>Holiday_Holiday</th>\n",
       "      <th>Holiday_No Holiday</th>\n",
       "      <th>Functioning Day_No</th>\n",
       "      <th>Functioning Day_Yes</th>\n",
       "    </tr>\n",
       "  </thead>\n",
       "  <tbody>\n",
       "    <tr>\n",
       "      <th>0</th>\n",
       "      <td>-5.2</td>\n",
       "      <td>37</td>\n",
       "      <td>2.2</td>\n",
       "      <td>2000</td>\n",
       "      <td>-17.6</td>\n",
       "      <td>0.0</td>\n",
       "      <td>0.0</td>\n",
       "      <td>0.0</td>\n",
       "      <td>254</td>\n",
       "      <td>1</td>\n",
       "      <td>...</td>\n",
       "      <td>0</td>\n",
       "      <td>0</td>\n",
       "      <td>0</td>\n",
       "      <td>0</td>\n",
       "      <td>0</td>\n",
       "      <td>1</td>\n",
       "      <td>0</td>\n",
       "      <td>1</td>\n",
       "      <td>0</td>\n",
       "      <td>1</td>\n",
       "    </tr>\n",
       "    <tr>\n",
       "      <th>1</th>\n",
       "      <td>-5.5</td>\n",
       "      <td>38</td>\n",
       "      <td>0.8</td>\n",
       "      <td>2000</td>\n",
       "      <td>-17.6</td>\n",
       "      <td>0.0</td>\n",
       "      <td>0.0</td>\n",
       "      <td>0.0</td>\n",
       "      <td>204</td>\n",
       "      <td>0</td>\n",
       "      <td>...</td>\n",
       "      <td>0</td>\n",
       "      <td>0</td>\n",
       "      <td>0</td>\n",
       "      <td>0</td>\n",
       "      <td>0</td>\n",
       "      <td>1</td>\n",
       "      <td>0</td>\n",
       "      <td>1</td>\n",
       "      <td>0</td>\n",
       "      <td>1</td>\n",
       "    </tr>\n",
       "    <tr>\n",
       "      <th>2</th>\n",
       "      <td>-6.0</td>\n",
       "      <td>39</td>\n",
       "      <td>1.0</td>\n",
       "      <td>2000</td>\n",
       "      <td>-17.7</td>\n",
       "      <td>0.0</td>\n",
       "      <td>0.0</td>\n",
       "      <td>0.0</td>\n",
       "      <td>173</td>\n",
       "      <td>0</td>\n",
       "      <td>...</td>\n",
       "      <td>0</td>\n",
       "      <td>0</td>\n",
       "      <td>0</td>\n",
       "      <td>0</td>\n",
       "      <td>0</td>\n",
       "      <td>1</td>\n",
       "      <td>0</td>\n",
       "      <td>1</td>\n",
       "      <td>0</td>\n",
       "      <td>1</td>\n",
       "    </tr>\n",
       "    <tr>\n",
       "      <th>3</th>\n",
       "      <td>-6.2</td>\n",
       "      <td>40</td>\n",
       "      <td>0.9</td>\n",
       "      <td>2000</td>\n",
       "      <td>-17.6</td>\n",
       "      <td>0.0</td>\n",
       "      <td>0.0</td>\n",
       "      <td>0.0</td>\n",
       "      <td>107</td>\n",
       "      <td>0</td>\n",
       "      <td>...</td>\n",
       "      <td>0</td>\n",
       "      <td>0</td>\n",
       "      <td>0</td>\n",
       "      <td>0</td>\n",
       "      <td>0</td>\n",
       "      <td>1</td>\n",
       "      <td>0</td>\n",
       "      <td>1</td>\n",
       "      <td>0</td>\n",
       "      <td>1</td>\n",
       "    </tr>\n",
       "    <tr>\n",
       "      <th>4</th>\n",
       "      <td>-6.0</td>\n",
       "      <td>36</td>\n",
       "      <td>2.3</td>\n",
       "      <td>2000</td>\n",
       "      <td>-18.6</td>\n",
       "      <td>0.0</td>\n",
       "      <td>0.0</td>\n",
       "      <td>0.0</td>\n",
       "      <td>78</td>\n",
       "      <td>0</td>\n",
       "      <td>...</td>\n",
       "      <td>0</td>\n",
       "      <td>0</td>\n",
       "      <td>0</td>\n",
       "      <td>0</td>\n",
       "      <td>0</td>\n",
       "      <td>1</td>\n",
       "      <td>0</td>\n",
       "      <td>1</td>\n",
       "      <td>0</td>\n",
       "      <td>1</td>\n",
       "    </tr>\n",
       "  </tbody>\n",
       "</table>\n",
       "<p>5 rows × 41 columns</p>\n",
       "</div>"
      ],
      "text/plain": [
       "   Temperature(^C)  Humidity(%)  Wind speed (m/s)  Visibility (10m)  \\\n",
       "0             -5.2           37               2.2              2000   \n",
       "1             -5.5           38               0.8              2000   \n",
       "2             -6.0           39               1.0              2000   \n",
       "3             -6.2           40               0.9              2000   \n",
       "4             -6.0           36               2.3              2000   \n",
       "\n",
       "   Dew point temperature(^C)  Solar Radiation (MJ/m2)  Rainfall(mm)  \\\n",
       "0                      -17.6                      0.0           0.0   \n",
       "1                      -17.6                      0.0           0.0   \n",
       "2                      -17.7                      0.0           0.0   \n",
       "3                      -17.6                      0.0           0.0   \n",
       "4                      -18.6                      0.0           0.0   \n",
       "\n",
       "   Snowfall (cm)  Rented Bike Count  Hour_0  ...  Hour_22  Hour_23  \\\n",
       "0            0.0                254       1  ...        0        0   \n",
       "1            0.0                204       0  ...        0        0   \n",
       "2            0.0                173       0  ...        0        0   \n",
       "3            0.0                107       0  ...        0        0   \n",
       "4            0.0                 78       0  ...        0        0   \n",
       "\n",
       "   Seasons_Autumn  Seasons_Spring  Seasons_Summer  Seasons_Winter  \\\n",
       "0               0               0               0               1   \n",
       "1               0               0               0               1   \n",
       "2               0               0               0               1   \n",
       "3               0               0               0               1   \n",
       "4               0               0               0               1   \n",
       "\n",
       "   Holiday_Holiday  Holiday_No Holiday  Functioning Day_No  \\\n",
       "0                0                   1                   0   \n",
       "1                0                   1                   0   \n",
       "2                0                   1                   0   \n",
       "3                0                   1                   0   \n",
       "4                0                   1                   0   \n",
       "\n",
       "   Functioning Day_Yes  \n",
       "0                    1  \n",
       "1                    1  \n",
       "2                    1  \n",
       "3                    1  \n",
       "4                    1  \n",
       "\n",
       "[5 rows x 41 columns]"
      ]
     },
     "execution_count": 4,
     "metadata": {},
     "output_type": "execute_result"
    }
   ],
   "source": [
    "import pandas as pd\n",
    "import os\n",
    "\n",
    "fname = os.path.join('data', 'SeoulBikeData.csv')\n",
    "data = pd.read_csv(fname, sep=',')\n",
    "\n",
    "num_input = ['Temperature(^C)', 'Humidity(%)',\n",
    "       'Wind speed (m/s)', 'Visibility (10m)', 'Dew point temperature(^C)',\n",
    "       'Solar Radiation (MJ/m2)', 'Rainfall(mm)', 'Snowfall (cm)']\n",
    "cat_input = ['Hour', 'Seasons', 'Holiday', 'Functioning Day']\n",
    "output = 'Rented Bike Count'\n",
    "\n",
    "data_d = pd.get_dummies(data[num_input + cat_input + [output]], columns=cat_input)\n",
    "data_d.head()"
   ]
  },
  {
   "cell_type": "markdown",
   "metadata": {},
   "source": [
    "## Train/Test Split and Standardization\n",
    "\n",
    "First, we perform input/output and train/test split as usual"
   ]
  },
  {
   "cell_type": "code",
   "execution_count": 5,
   "metadata": {},
   "outputs": [
    {
     "name": "stdout",
     "output_type": "stream",
     "text": [
      "Number of training examples: 5781\n",
      "Number of test examples: 2979\n"
     ]
    }
   ],
   "source": [
    "from sklearn.model_selection import train_test_split\n",
    "\n",
    "all_input = [c for c in data_d if c != output] # we cannot use `cat_input`, since the names have changed\n",
    "X = data_d[all_input]\n",
    "y = data_d[[output]] # We use a list, so we obtain a DataFrame\n",
    "\n",
    "test_set_fraction = .34\n",
    "X_tr, X_ts, y_tr, y_ts = train_test_split(X, y, test_size=test_set_fraction, random_state=42)\n",
    "\n",
    "print(f\"Number of training examples: {len(X_tr)}\")\n",
    "print(f\"Number of test examples: {len(X_ts)}\")"
   ]
  },
  {
   "cell_type": "markdown",
   "metadata": {},
   "source": [
    "...But then we also apply a standardization step:"
   ]
  },
  {
   "cell_type": "code",
   "execution_count": 6,
   "metadata": {},
   "outputs": [
    {
     "name": "stdout",
     "output_type": "stream",
     "text": [
      "X_tr_s: [[ 0.941345   -1.0856807   2.18719026 ...  0.2268772  -0.18782803\n",
      "   0.18782803]\n",
      " [ 0.6052002   0.18691014  0.06051515 ...  0.2268772  -0.18782803\n",
      "   0.18782803]\n",
      " [-0.88224056  0.82320556 -0.22948601 ...  0.2268772  -0.18782803\n",
      "   0.18782803]\n",
      " ...\n",
      " [ 1.38673686  0.18691014  0.9305186  ...  0.2268772  -0.18782803\n",
      "   0.18782803]\n",
      " [-1.37805414 -0.35149368 -0.61615421 ...  0.2268772  -0.18782803\n",
      "   0.18782803]\n",
      " [ 0.52956762 -0.15571047 -1.19615651 ...  0.2268772  -0.18782803\n",
      "   0.18782803]]\n",
      "y_tr_s: [[ 1.58078069]\n",
      " [ 0.36153697]\n",
      " [-0.65810974]\n",
      " ...\n",
      " [ 0.44973099]\n",
      " [-0.59776646]\n",
      " [ 1.22645732]]\n"
     ]
    }
   ],
   "source": [
    "from sklearn.preprocessing import StandardScaler\n",
    "\n",
    "input_scaler = StandardScaler()\n",
    "output_scaler = StandardScaler()\n",
    "\n",
    "X_tr_s = input_scaler.fit_transform(X_tr)\n",
    "y_tr_s = output_scaler.fit_transform(y_tr)\n",
    "\n",
    "X_ts_s = input_scaler.fit_transform(X_ts)\n",
    "y_ts_s = output_scaler.fit_transform(y_ts)\n",
    "\n",
    "print(f\"X_tr_s: {X_tr_s}\")\n",
    "print(f\"y_tr_s: {y_tr_s}\")"
   ]
  },
  {
   "cell_type": "markdown",
   "metadata": {},
   "source": [
    "## Building a LASSO Model\n",
    "\n",
    "Now, based on the code from the previous lecture, try to:\n",
    "\n",
    "* Build a LASSO model (start with $\\alpha = 0.1$) \n",
    "* Train it on `X_tr_s`, `y_tr_s`\n",
    "* Display the value of the $R^2$ coefficient for both the training and the test set\n",
    "* Plot the values of the coefficients (the code for doing this is included and it assumes the model is in a variables called `m`)"
   ]
  },
  {
   "cell_type": "code",
   "execution_count": 7,
   "metadata": {},
   "outputs": [
    {
     "name": "stdout",
     "output_type": "stream",
     "text": [
      "R2: 0.66 (training), 0.65 (test)\n"
     ]
    }
   ],
   "source": [
    "from sklearn.linear_model import Lasso\n",
    "from sklearn.metrics import r2_score\n",
    "\n",
    "m = Lasso(alpha=0.01)\n",
    "m.fit(X_tr_s, y_tr_s);\n",
    "y_pred_tr_s, y_pred_ts_s = m.predict(X_tr_s), m.predict(X_ts_s)\n",
    "print(f'R2: {r2_score(y_tr_s, y_pred_tr_s):.3} (training), {r2_score(y_ts_s, y_pred_ts_s):.3} (test)')"
   ]
  },
  {
   "cell_type": "code",
   "execution_count": 8,
   "metadata": {},
   "outputs": [
    {
     "data": {
      "image/png": "[encoded data removed]",
      "text/plain": [
       "<Figure size 1400x300 with 1 Axes>"
      ]
     },
     "metadata": {},
     "output_type": "display_data"
    }
   ],
   "source": [
    "import numpy as np\n",
    "from matplotlib import pyplot as plt\n",
    "\n",
    "\n",
    "idx = np.argsort(-np.abs(m.coef_))\n",
    "scores = m.coef_[idx]\n",
    "plt.figure(figsize=(14, 3))\n",
    "plt.bar(0.5 + np.arange(len(idx)), scores, tick_label=X.columns[idx]);\n",
    "plt.xticks(rotation=90);"
   ]
  },
  {
   "cell_type": "markdown",
   "metadata": {},
   "source": [
    "Some open questions:\n",
    "\n",
    "* What happens if you change the value of $\\alpha$?\n",
    "* Try calibrating $\\alpha$ until the $R^2$ is similar to the one from the previous exercise, but unimportant attributes have been filtered out"
   ]
  }
 ],
 "metadata": {
  "celltoolbar": "Slideshow",
  "kernelspec": {
   "display_name": "Python 3 (ipykernel)",
   "language": "python",
   "name": "python3"
  },
  "language_info": {
   "codemirror_mode": {
    "name": "ipython",
    "version": 3
   },
   "file_extension": ".py",
   "mimetype": "text/x-python",
   "name": "python",
   "nbconvert_exporter": "python",
   "pygments_lexer": "ipython3",
   "version": "3.10.8"
  },
  "rise": {
   "center": false,
   "transition": "fade"
  },
  "widgets": {
   "application/vnd.jupyter.widget-state+json": {
    "state": {},
    "version_major": 2,
    "version_minor": 0
   }
  }
 },
 "nbformat": 4,
 "nbformat_minor": 4
}
